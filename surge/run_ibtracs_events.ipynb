{
 "cells": [
  {
   "cell_type": "code",
   "execution_count": null,
   "id": "b8d29149-fd74-4149-94eb-3468b1be0928",
   "metadata": {},
   "outputs": [],
   "source": [
    "%load_ext autoreload\n",
    "%autoreload 2\n",
    "import xarray as xr\n",
    "import matplotlib.pyplot as plt\n",
    "from cartopy import crs as ccrs, feature as cfeature\n",
    "import numpy as np\n",
    "from climada.hazard import TCTracks\n",
    "from climada.hazard import Centroids, TropCyclone\n",
    "import climada.util.coordinates as u_coord\n",
    "from tc_analysis import windspeed_analysis\n",
    "from tc_analysis import plot as tcplot\n",
    "import tc_analysis\n",
    "import pandas as pd\n",
    "from shapely.geometry import Point, LineString, Polygon\n",
    "from roms_func import forcing, input_control, validation, postprocessing\n",
    "from roms_func import plot as rplot\n",
    "import subprocess\n",
    "import os"
   ]
  },
  {
   "cell_type": "code",
   "execution_count": null,
   "id": "be88ac2d-d96c-48de-94d8-0f15a29126b9",
   "metadata": {},
   "outputs": [],
   "source": [
    "year_start = 1980\n",
    "year_end = 2020\n",
    "basin = 'NA'\n",
    "fp_tg = 'h765a.nc'\n",
    "fp_grd = './roms_grd.nc'\n",
    "proj = 'lousiana'"
   ]
  },
  {
   "cell_type": "code",
   "execution_count": null,
   "id": "76715b9e-a6f0-4163-951d-7ff25c69a207",
   "metadata": {},
   "outputs": [],
   "source": [
    "os.chdir(proj)"
   ]
  },
  {
   "cell_type": "code",
   "execution_count": null,
   "id": "daa0311b-c2ad-4157-a301-a9701e23980b",
   "metadata": {},
   "outputs": [],
   "source": [
    "# Open tide gauge file and get time bounds\n",
    "ds_tg = xr.open_dataset(fp_tg)\n",
    "year_start = max( pd.to_datetime( ds_tg.time.min().values ).year, year_start+1 )\n",
    "year_end = min( pd.to_datetime( ds_tg.time.max().values ).year, year_end-1 )"
   ]
  },
  {
   "cell_type": "code",
   "execution_count": null,
   "id": "f33f007a-675d-4ea0-ac7c-5d433954ace9",
   "metadata": {},
   "outputs": [],
   "source": [
    "# Read tracks between start and end years\n",
    "tracks = TCTracks.from_ibtracs_netcdf(basin=basin, year_range=[year_start,year_end])"
   ]
  },
  {
   "cell_type": "code",
   "execution_count": null,
   "id": "68edf2db-3b5c-498d-ba97-8d9446df1679",
   "metadata": {},
   "outputs": [],
   "source": [
    "# Open grid file and get grid polygon\n",
    "ds_grd = xr.open_dataset( fp_grd )\n",
    "grid_poly = forcing.get_grid_poly( ds_grd.lon_rho, ds_grd.lat_rho)\n",
    "\n",
    "# Subset tracks in grid domain\n",
    "tracks.data = tc_analysis.subset_tracks_in_poly(tracks.data, grid_poly)\n",
    "\n",
    "# Filter out storms that don't pass close to central tide gauge\n",
    "min_dist = 1.5\n",
    "tg_lon = ds_tg.lon.values[0]\n",
    "if tg_lon > 180:\n",
    "    tg_lon = tg_lon-360\n",
    "tg_lat = ds_tg.lat.values[0]\n",
    "tg_poly = Point( [tg_lon, tg_lat] ).buffer(min_dist)\n",
    "tracks.data = tc_analysis.subset_tracks_in_poly(tracks.data, tg_poly)\n",
    "\n",
    "# Filter out weak storms\n",
    "tracks.data = tc_analysis.filter_tracks_by_intensity( tracks.data, min_intensity = 64 )"
   ]
  },
  {
   "cell_type": "code",
   "execution_count": null,
   "id": "ee22ea05-363c-4b9e-a429-f1ee9bf303ad",
   "metadata": {},
   "outputs": [],
   "source": [
    "n_storms = len(tracks.data)\n",
    "n_storms"
   ]
  },
  {
   "cell_type": "code",
   "execution_count": null,
   "id": "fe174e36-e2a6-4d77-9530-110cc6963aba",
   "metadata": {},
   "outputs": [],
   "source": [
    "val = []\n",
    "reject = []\n",
    "year_list = np.arange(year_start, year_end+1)\n",
    "subprocess.run('rm -rf maxima/*', shell=True)\n",
    "os.remove('roms_his.nc')\n",
    "\n",
    "for yy in year_list:\n",
    "\n",
    "    # Extract tracks for this year\n",
    "    tracks_yy = tc_analysis.subset_tracks_in_year( tracks, yy )\n",
    "\n",
    "    # If empty, save empty envelope and continue onto the next year\n",
    "    n_storms_year = len(tracks_yy.data)\n",
    "    if n_storms_year == 0:\n",
    "        print(f'Year {yy} / {year_end} --> No tracks found')\n",
    "        ds_zmax = postprocessing.make_zero_surge_envelope( )\n",
    "        ds_zmax['year'] = yy\n",
    "        ds_zmax.to_netcdf( f'./maxima/zmax_y{yy}.nc') \n",
    "        continue\n",
    "\n",
    "    z_envelopes = []\n",
    "    \n",
    "    for ii in range(n_storms_year):\n",
    "        \n",
    "        storm = tracks_yy.data[ii]\n",
    "        print(f'Year {yy} / {year_end} --> {ii+1} / {n_storms_year} ---> {storm.sid}')\n",
    "    \n",
    "        # Make forcing for this storm\n",
    "        subprocess.run(f'python ./make_forcing_ibtracs.py -sid {storm.sid} -freq .25', shell=True,)\n",
    "    \n",
    "        # Check there are enough obs to warrant running the model\n",
    "        ndata_ha, ndata_frac = validation.check_obs_from_file( fp_tg )\n",
    "        if ndata_frac < .25 or ndata_ha < 30*24:\n",
    "            print(f'Not enough obs. REJECT. frac = {ndata_frac}, ha = {ndata_ha}')\n",
    "            continue\n",
    "    \n",
    "        # Don't reject but do flag data\n",
    "        rejii = False\n",
    "        if ndata_ha < 3*30*24:\n",
    "            rejii = True\n",
    "        if ndata_frac < 0.75:\n",
    "            rejii = True\n",
    "        reject.append(rejii)\n",
    "        \n",
    "        # Make input control file\n",
    "        input_control.make_infile_from_files( )\n",
    "    \n",
    "        # Run model\n",
    "        subprocess.run( f'mpirun -np 4 --oversubscribe romsM roms.in > log.txt', shell=True,)\n",
    "    \n",
    "        # Get validation stats\n",
    "        ds_v, obs, mod = validation.validate_from_file(fp_tg = fp_tg, sid=storm.sid)\n",
    "        val.append(ds_v)\n",
    "    \n",
    "        # Make plots\n",
    "        f,a = rplot.plot_validation_timseries( mod, obs )\n",
    "        f.savefig( f'./plots/valts_{storm.sid}' )\n",
    "        plt.close('all')\n",
    "    \n",
    "        # Make annual max\n",
    "        z_envelopes.append(postprocessing.calculate_surge_envelope())\n",
    "\n",
    "    ds_zmax = xr.concat(z_envelopes, dim='storm').max(dim='storm').drop('h')\n",
    "    ds_zmax['year'] = yy\n",
    "    ds_zmax.to_netcdf( f'./maxima/zmax_y{yy}.nc') \n",
    "    \n",
    "df_val = pd.concat(val)\n",
    "df_val['reject'] = reject"
   ]
  },
  {
   "cell_type": "code",
   "execution_count": null,
   "id": "cbd83a82-b5c7-4464-99f2-5da54b597ebd",
   "metadata": {},
   "outputs": [],
   "source": [
    "df_val.to_csv('validation.csv')"
   ]
  },
  {
   "cell_type": "code",
   "execution_count": null,
   "id": "06b86023-1324-44c3-b56a-0b70a1364423",
   "metadata": {},
   "outputs": [],
   "source": [
    "df_val"
   ]
  },
  {
   "cell_type": "code",
   "execution_count": null,
   "id": "f9bbbbde-0287-438f-9660-39239024bb50",
   "metadata": {},
   "outputs": [],
   "source": []
  }
 ],
 "metadata": {
  "kernelspec": {
   "display_name": "Python 3 (ipykernel)",
   "language": "python",
   "name": "python3"
  },
  "language_info": {
   "codemirror_mode": {
    "name": "ipython",
    "version": 3
   },
   "file_extension": ".py",
   "mimetype": "text/x-python",
   "name": "python",
   "nbconvert_exporter": "python",
   "pygments_lexer": "ipython3",
   "version": "3.9.16"
  }
 },
 "nbformat": 4,
 "nbformat_minor": 5
}
